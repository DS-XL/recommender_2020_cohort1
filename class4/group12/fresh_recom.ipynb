{
  "nbformat": 4,
  "nbformat_minor": 0,
  "metadata": {
    "colab": {
      "name": "fresh_recom.ipynb",
      "provenance": [],
      "collapsed_sections": []
    },
    "kernelspec": {
      "display_name": "Python 3",
      "language": "python",
      "name": "python3"
    },
    "language_info": {
      "codemirror_mode": {
        "name": "ipython",
        "version": 3
      },
      "file_extension": ".py",
      "mimetype": "text/x-python",
      "name": "python",
      "nbconvert_exporter": "python",
      "pygments_lexer": "ipython3",
      "version": "3.7.4"
    }
  },
  "cells": [
    {
      "cell_type": "code",
      "metadata": {
        "colab_type": "code",
        "id": "pHWJz5oQ2R3W",
        "colab": {}
      },
      "source": [
        "import cv2\n",
        "import numpy as np\n",
        "import pandas as pd\n",
        "import matplotlib.pyplot as plt\n",
        "from google.colab import drive\n",
        "import os\n",
        "from sklearn.decomposition import PCA\n",
        "from sklearn import preprocessing\n"
      ],
      "execution_count": 1,
      "outputs": []
    },
    {
      "cell_type": "code",
      "metadata": {
        "colab_type": "code",
        "id": "CO-vENrfNmZr",
        "colab": {
          "base_uri": "https://localhost:8080/",
          "height": 235
        },
        "outputId": "74d9f7ec-71ac-481c-d43d-8e050e347054"
      },
      "source": [
        "#build table: item vs feature\n",
        "import pandas as pd\n",
        "\n",
        "column_names = [\"item_ID\", \"sweetness\", \"category\",'cold_only']#price, calori\n",
        "\n",
        "item_char = pd.DataFrame(columns = column_names)\n",
        "\n",
        "initial_data=[[0,'0.9','shake',True],\n",
        "              [1,'0.3','shake',False],\n",
        "              [2,'0.3','shake',False],\n",
        "              [3,'0.3','shake',False],\n",
        "              [4,'0.3','milk',False]\n",
        "             ]\n",
        "\n",
        "row_df=pd.DataFrame(initial_data,columns = column_names)\n",
        "item_char = pd.concat([row_df, item_char])\n",
        "item_char=item_char.set_index('item_ID')\n",
        "item_char"
      ],
      "execution_count": 2,
      "outputs": [
        {
          "output_type": "execute_result",
          "data": {
            "text/html": [
              "<div>\n",
              "<style scoped>\n",
              "    .dataframe tbody tr th:only-of-type {\n",
              "        vertical-align: middle;\n",
              "    }\n",
              "\n",
              "    .dataframe tbody tr th {\n",
              "        vertical-align: top;\n",
              "    }\n",
              "\n",
              "    .dataframe thead th {\n",
              "        text-align: right;\n",
              "    }\n",
              "</style>\n",
              "<table border=\"1\" class=\"dataframe\">\n",
              "  <thead>\n",
              "    <tr style=\"text-align: right;\">\n",
              "      <th></th>\n",
              "      <th>sweetness</th>\n",
              "      <th>category</th>\n",
              "      <th>cold_only</th>\n",
              "    </tr>\n",
              "    <tr>\n",
              "      <th>item_ID</th>\n",
              "      <th></th>\n",
              "      <th></th>\n",
              "      <th></th>\n",
              "    </tr>\n",
              "  </thead>\n",
              "  <tbody>\n",
              "    <tr>\n",
              "      <th>0</th>\n",
              "      <td>0.9</td>\n",
              "      <td>shake</td>\n",
              "      <td>True</td>\n",
              "    </tr>\n",
              "    <tr>\n",
              "      <th>1</th>\n",
              "      <td>0.3</td>\n",
              "      <td>shake</td>\n",
              "      <td>False</td>\n",
              "    </tr>\n",
              "    <tr>\n",
              "      <th>2</th>\n",
              "      <td>0.3</td>\n",
              "      <td>shake</td>\n",
              "      <td>False</td>\n",
              "    </tr>\n",
              "    <tr>\n",
              "      <th>3</th>\n",
              "      <td>0.3</td>\n",
              "      <td>shake</td>\n",
              "      <td>False</td>\n",
              "    </tr>\n",
              "    <tr>\n",
              "      <th>4</th>\n",
              "      <td>0.3</td>\n",
              "      <td>milk</td>\n",
              "      <td>False</td>\n",
              "    </tr>\n",
              "  </tbody>\n",
              "</table>\n",
              "</div>"
            ],
            "text/plain": [
              "        sweetness category cold_only\n",
              "item_ID                             \n",
              "0             0.9    shake      True\n",
              "1             0.3    shake     False\n",
              "2             0.3    shake     False\n",
              "3             0.3    shake     False\n",
              "4             0.3     milk     False"
            ]
          },
          "metadata": {
            "tags": []
          },
          "execution_count": 2
        }
      ]
    },
    {
      "cell_type": "code",
      "metadata": {
        "colab_type": "code",
        "id": "7Qt2mAWV2Llt",
        "colab": {}
      },
      "source": [
        ""
      ],
      "execution_count": 2,
      "outputs": []
    },
    {
      "cell_type": "code",
      "metadata": {
        "colab_type": "code",
        "id": "aVJV-oTl2Lij",
        "colab": {
          "base_uri": "https://localhost:8080/",
          "height": 173
        },
        "outputId": "1a8e8510-220b-4092-c8f5-69fdd940ce92"
      },
      "source": [
        "#build table: user vs feature, from questionare, how care is each user on each feature, work as weight in calculating similarity.\n",
        "\n",
        "#1/variance\n",
        "\n",
        "column_names = [\"User_ID\", \"sweetness\", \"category\",'cold_only']\n",
        "user_caring = pd.DataFrame(columns = column_names)\n",
        "\n",
        "temp_1=[  [0,0.8,0.8,0.4],\n",
        "          [1,0.7,0.7,0.2],\n",
        "          [2,0.3,0.5,0.5]\n",
        "             ]\n",
        "\n",
        "table_temp_1=pd.DataFrame(temp_1,columns = column_names)\n",
        "user_caring = pd.concat([table_temp_1, user_caring])\n",
        "user_caring=user_caring.set_index('User_ID')\n",
        "user_caring"
      ],
      "execution_count": 3,
      "outputs": [
        {
          "output_type": "execute_result",
          "data": {
            "text/html": [
              "<div>\n",
              "<style scoped>\n",
              "    .dataframe tbody tr th:only-of-type {\n",
              "        vertical-align: middle;\n",
              "    }\n",
              "\n",
              "    .dataframe tbody tr th {\n",
              "        vertical-align: top;\n",
              "    }\n",
              "\n",
              "    .dataframe thead th {\n",
              "        text-align: right;\n",
              "    }\n",
              "</style>\n",
              "<table border=\"1\" class=\"dataframe\">\n",
              "  <thead>\n",
              "    <tr style=\"text-align: right;\">\n",
              "      <th></th>\n",
              "      <th>sweetness</th>\n",
              "      <th>category</th>\n",
              "      <th>cold_only</th>\n",
              "    </tr>\n",
              "    <tr>\n",
              "      <th>User_ID</th>\n",
              "      <th></th>\n",
              "      <th></th>\n",
              "      <th></th>\n",
              "    </tr>\n",
              "  </thead>\n",
              "  <tbody>\n",
              "    <tr>\n",
              "      <th>0</th>\n",
              "      <td>0.8</td>\n",
              "      <td>0.8</td>\n",
              "      <td>0.4</td>\n",
              "    </tr>\n",
              "    <tr>\n",
              "      <th>1</th>\n",
              "      <td>0.7</td>\n",
              "      <td>0.7</td>\n",
              "      <td>0.2</td>\n",
              "    </tr>\n",
              "    <tr>\n",
              "      <th>2</th>\n",
              "      <td>0.3</td>\n",
              "      <td>0.5</td>\n",
              "      <td>0.5</td>\n",
              "    </tr>\n",
              "  </tbody>\n",
              "</table>\n",
              "</div>"
            ],
            "text/plain": [
              "         sweetness  category  cold_only\n",
              "User_ID                                \n",
              "0              0.8       0.8        0.4\n",
              "1              0.7       0.7        0.2\n",
              "2              0.3       0.5        0.5"
            ]
          },
          "metadata": {
            "tags": []
          },
          "execution_count": 3
        }
      ]
    },
    {
      "cell_type": "code",
      "metadata": {
        "colab_type": "code",
        "id": "4vXy4wg32Lcy",
        "colab": {}
      },
      "source": [
        ""
      ],
      "execution_count": 3,
      "outputs": []
    },
    {
      "cell_type": "code",
      "metadata": {
        "colab_type": "code",
        "id": "iz2L5SNGNmZw",
        "colab": {
          "base_uri": "https://localhost:8080/",
          "height": 102
        },
        "outputId": "88bfcc35-f2aa-4e2e-b4d6-d3a7c06a22a4"
      },
      "source": [
        "#calculare item similarity based on content\n",
        "from sklearn.metrics.pairwise import cosine_similarity \n",
        "from sklearn.preprocessing import LabelEncoder\n",
        "\n",
        "#LabelEncoder\n",
        "def labelencoder_dataframe(df):\n",
        "    for col in df.columns:\n",
        "        if len(set(df[col]))==2:\n",
        "            lbl = LabelEncoder()\n",
        "            lbl.fit(list(df[col].values.astype('str')))\n",
        "            df[col] = lbl.transform(list(df[col].values.astype('str')))\n",
        "    return df\n",
        "\n",
        "item_char=labelencoder_dataframe(item_char)\n",
        "\n",
        "#Get dummies for catigory variables.\n",
        "item_char_dum=pd.get_dummies(item_char)\n",
        "\n",
        "similarity_mat=cosine_similarity(item_char_dum)\n",
        "# similarity_mat=pd.DataFrame(similarity_mat,columns=item_char.index)\n",
        "# similarity_mat=similarity_mat.set_index(item_char.index)\n",
        "similarity_mat\n"
      ],
      "execution_count": 4,
      "outputs": [
        {
          "output_type": "execute_result",
          "data": {
            "text/plain": [
              "array([[1.        , 0.57735027, 0.57735027, 0.57735027, 0.        ],\n",
              "       [0.57735027, 1.        , 1.        , 1.        , 0.        ],\n",
              "       [0.57735027, 1.        , 1.        , 1.        , 0.        ],\n",
              "       [0.57735027, 1.        , 1.        , 1.        , 0.        ],\n",
              "       [0.        , 0.        , 0.        , 0.        , 0.        ]])"
            ]
          },
          "metadata": {
            "tags": []
          },
          "execution_count": 4
        }
      ]
    },
    {
      "cell_type": "code",
      "metadata": {
        "colab_type": "code",
        "id": "_yp2t-GYNmZ2",
        "colab": {}
      },
      "source": [
        ""
      ],
      "execution_count": 4,
      "outputs": []
    },
    {
      "cell_type": "code",
      "metadata": {
        "colab_type": "code",
        "id": "_mgiH3yoNmZ4",
        "colab": {}
      },
      "source": [
        "#calculate similarity through image"
      ],
      "execution_count": 5,
      "outputs": []
    },
    {
      "cell_type": "code",
      "metadata": {
        "colab_type": "code",
        "id": "VyntpsDK5LM-",
        "colab": {
          "base_uri": "https://localhost:8080/",
          "height": 119
        },
        "outputId": "06b805c7-27a2-4805-de7f-c1849b89e5f1"
      },
      "source": [
        "drive.mount('/content/drive')\n",
        "path_list=[]\n",
        "for dirname, _, filenames in os.walk('/content/drive/My Drive/photo'):\n",
        "    for filename in filenames:\n",
        "        path_list.append(os.path.join(dirname, filename))\n",
        "path_list"
      ],
      "execution_count": 16,
      "outputs": [
        {
          "output_type": "stream",
          "text": [
            "Drive already mounted at /content/drive; to attempt to forcibly remount, call drive.mount(\"/content/drive\", force_remount=True).\n"
          ],
          "name": "stdout"
        },
        {
          "output_type": "execute_result",
          "data": {
            "text/plain": [
              "['/content/drive/My Drive/photo/0.png',\n",
              " '/content/drive/My Drive/photo/1.png',\n",
              " '/content/drive/My Drive/photo/2.png',\n",
              " '/content/drive/My Drive/photo/3.png',\n",
              " '/content/drive/My Drive/photo/4.png']"
            ]
          },
          "metadata": {
            "tags": []
          },
          "execution_count": 16
        }
      ]
    },
    {
      "cell_type": "code",
      "metadata": {
        "colab_type": "code",
        "id": "LCcSy5F7EB0J",
        "colab": {}
      },
      "source": [
        "#import image to a dataframe\n",
        "img_list=[]\n",
        "min_width = 800\n",
        "min_height = 800\n",
        "for path in path_list:\n",
        "  temp_1=cv2.imread(path)\n",
        "  temp_2=cv2.resize(temp_1, (min_width,min_height), interpolation = cv2.INTER_AREA).flatten()\n",
        "  img_list.append(temp_2)\n",
        "img_list\n",
        "img=np.vstack(img_list)\n",
        "feat_cols = ['pixel'+str(i) for i in range(img.shape[1])]\n",
        "img_df = pd.DataFrame(img,columns=feat_cols)\n",
        "#img_df.head()"
      ],
      "execution_count": 7,
      "outputs": []
    },
    {
      "cell_type": "code",
      "metadata": {
        "colab_type": "code",
        "id": "gWKxAmGfUkzS",
        "colab": {}
      },
      "source": [
        "#PCA to rule out uneccessary features\n",
        "pca_fresh = PCA(n_components = 5 )\n",
        "principalComponents_fresh = pca_fresh.fit_transform(img_df.iloc[:,:-1])\n",
        "\n",
        "# Convert principal components to pandas dataframe \n",
        "item_char_pca = pd.DataFrame(data = principalComponents_fresh\n",
        "             , columns = ['PC1', 'PC2','PC3','PC4','PC5'])\n",
        "#item_char_pca.head()"
      ],
      "execution_count": 8,
      "outputs": []
    },
    {
      "cell_type": "code",
      "metadata": {
        "id": "f8Ehf_gi25wL",
        "colab_type": "code",
        "colab": {
          "base_uri": "https://localhost:8080/",
          "height": 102
        },
        "outputId": "6648f0e8-a334-4fbe-e628-95cd4cfe0cc6"
      },
      "source": [
        "#calculare item similarity based on image; no need to creat dummy\n",
        "similarity_mat_img=cosine_similarity(item_char_pca)\n",
        "# similarity_mat=pd.DataFrame(similarity_mat,columns=item_char.index)\n",
        "# similarity_mat=similarity_mat.set_index(item_char.index)\n",
        "similarity_mat_img"
      ],
      "execution_count": 9,
      "outputs": [
        {
          "output_type": "execute_result",
          "data": {
            "text/plain": [
              "array([[ 1.        , -0.30006396, -0.15126627, -0.17067378, -0.31234554],\n",
              "       [-0.30006396,  1.        , -0.38808126,  0.11162037, -0.40448883],\n",
              "       [-0.15126627, -0.38808126,  1.        , -0.35661709, -0.06439105],\n",
              "       [-0.17067378,  0.11162037, -0.35661709,  1.        , -0.43562033],\n",
              "       [-0.31234554, -0.40448883, -0.06439105, -0.43562033,  1.        ]])"
            ]
          },
          "metadata": {
            "tags": []
          },
          "execution_count": 9
        }
      ]
    },
    {
      "cell_type": "code",
      "metadata": {
        "id": "qdlBP2fv-hKi",
        "colab_type": "code",
        "colab": {}
      },
      "source": [
        ""
      ],
      "execution_count": 9,
      "outputs": []
    },
    {
      "cell_type": "code",
      "metadata": {
        "id": "6M0Lpp463vox",
        "colab_type": "code",
        "colab": {
          "base_uri": "https://localhost:8080/",
          "height": 173
        },
        "outputId": "1d5a4e58-abf8-4fbc-94ed-85cc681634c9"
      },
      "source": [
        "#build table: user vs item\n",
        "temp_user_item=[[0,1,1,0,0],\n",
        "                [0,1,1,2,0],\n",
        "                [0,1,1,0,3]\n",
        "                ]\n",
        "\n",
        "user_item_buy=pd.DataFrame(temp_user_item,columns=list(map(lambda x: 'item'+str(x),item_char.index)))\n",
        "user_item_buy.index.name='user_id'\n",
        "user_item_buy"
      ],
      "execution_count": 10,
      "outputs": [
        {
          "output_type": "execute_result",
          "data": {
            "text/html": [
              "<div>\n",
              "<style scoped>\n",
              "    .dataframe tbody tr th:only-of-type {\n",
              "        vertical-align: middle;\n",
              "    }\n",
              "\n",
              "    .dataframe tbody tr th {\n",
              "        vertical-align: top;\n",
              "    }\n",
              "\n",
              "    .dataframe thead th {\n",
              "        text-align: right;\n",
              "    }\n",
              "</style>\n",
              "<table border=\"1\" class=\"dataframe\">\n",
              "  <thead>\n",
              "    <tr style=\"text-align: right;\">\n",
              "      <th></th>\n",
              "      <th>item0</th>\n",
              "      <th>item1</th>\n",
              "      <th>item2</th>\n",
              "      <th>item3</th>\n",
              "      <th>item4</th>\n",
              "    </tr>\n",
              "    <tr>\n",
              "      <th>user_id</th>\n",
              "      <th></th>\n",
              "      <th></th>\n",
              "      <th></th>\n",
              "      <th></th>\n",
              "      <th></th>\n",
              "    </tr>\n",
              "  </thead>\n",
              "  <tbody>\n",
              "    <tr>\n",
              "      <th>0</th>\n",
              "      <td>0</td>\n",
              "      <td>1</td>\n",
              "      <td>1</td>\n",
              "      <td>0</td>\n",
              "      <td>0</td>\n",
              "    </tr>\n",
              "    <tr>\n",
              "      <th>1</th>\n",
              "      <td>0</td>\n",
              "      <td>1</td>\n",
              "      <td>1</td>\n",
              "      <td>2</td>\n",
              "      <td>0</td>\n",
              "    </tr>\n",
              "    <tr>\n",
              "      <th>2</th>\n",
              "      <td>0</td>\n",
              "      <td>1</td>\n",
              "      <td>1</td>\n",
              "      <td>0</td>\n",
              "      <td>3</td>\n",
              "    </tr>\n",
              "  </tbody>\n",
              "</table>\n",
              "</div>"
            ],
            "text/plain": [
              "         item0  item1  item2  item3  item4\n",
              "user_id                                   \n",
              "0            0      1      1      0      0\n",
              "1            0      1      1      2      0\n",
              "2            0      1      1      0      3"
            ]
          },
          "metadata": {
            "tags": []
          },
          "execution_count": 10
        }
      ]
    },
    {
      "cell_type": "markdown",
      "metadata": {
        "id": "-UMoDSWSMyuJ",
        "colab_type": "text"
      },
      "source": [
        "For a specific user, his/her preference on the $item_j$ is:\n",
        "\n",
        "preference on $item_j$=similarity $(item_1,item_j)$* number of $item_1$ purchased $+\\cdots+$ similarity $(item_n,item_j)$* number of $item_n$ purchased"
      ]
    },
    {
      "cell_type": "code",
      "metadata": {
        "id": "uLF0dNrU9NJR",
        "colab_type": "code",
        "colab": {}
      },
      "source": [
        ""
      ],
      "execution_count": 10,
      "outputs": []
    },
    {
      "cell_type": "code",
      "metadata": {
        "colab_type": "code",
        "id": "TOtSPbFsNmZz",
        "colab": {
          "base_uri": "https://localhost:8080/",
          "height": 153
        },
        "outputId": "3b68430d-cab8-42b8-82a8-ee63819b01b8"
      },
      "source": [
        "#recommendation model:\n",
        "\n",
        "user_id=0\n",
        "ID_have=np.array(user_item_buy.iloc[user_id])\n",
        "\n",
        "ID_recmd_sor=np.matmul(similarity_mat, ID_have)\n",
        "\n",
        "ID_recmd_sor=pd.DataFrame(ID_recmd_sor,columns=['recm_score'])\n",
        "ID_recmd_sor['recm_score']=preprocessing.minmax_scale(ID_recmd_sor['recm_score'])\n",
        "ID_recmd_sor.index.name='item_id'\n",
        "print(ID_recmd_sor)\n",
        "ID_recmd=ID_recmd_sor.sort_values(by='recm_score',ascending=False).index\n",
        "ID_recmd=list(ID_recmd)\n",
        "for id_temp in item_char.index[ID_have>0]:\n",
        "  ID_recmd.remove(id_temp)\n",
        "\n",
        "\n",
        "\n",
        "print('The recommend items are'+str(ID_recmd[:3]))#recommend three"
      ],
      "execution_count": 15,
      "outputs": [
        {
          "output_type": "stream",
          "text": [
            "         recm_score\n",
            "item_id            \n",
            "0           0.57735\n",
            "1           1.00000\n",
            "2           1.00000\n",
            "3           1.00000\n",
            "4           0.00000\n",
            "The recommend items are[3, 0, 4]\n"
          ],
          "name": "stdout"
        }
      ]
    },
    {
      "cell_type": "code",
      "metadata": {
        "colab_type": "code",
        "id": "wtVRlVmTVZwJ",
        "colab": {}
      },
      "source": [
        ""
      ],
      "execution_count": 11,
      "outputs": []
    },
    {
      "cell_type": "code",
      "metadata": {
        "colab_type": "code",
        "id": "X5XhE7ApUktx",
        "colab": {}
      },
      "source": [
        "#cold start"
      ],
      "execution_count": 12,
      "outputs": []
    },
    {
      "cell_type": "code",
      "metadata": {
        "colab_type": "code",
        "id": "bUwv5VdAUkqn",
        "colab": {}
      },
      "source": [
        ""
      ],
      "execution_count": 12,
      "outputs": []
    },
    {
      "cell_type": "code",
      "metadata": {
        "colab_type": "code",
        "id": "HZMpVtkpUkm1",
        "colab": {}
      },
      "source": [
        "#evaluation"
      ],
      "execution_count": 13,
      "outputs": []
    },
    {
      "cell_type": "code",
      "metadata": {
        "id": "fWTOCtGWlRY_",
        "colab_type": "code",
        "colab": {}
      },
      "source": [
        ""
      ],
      "execution_count": 13,
      "outputs": []
    },
    {
      "cell_type": "code",
      "metadata": {
        "id": "ctEKj0DelRee",
        "colab_type": "code",
        "colab": {}
      },
      "source": [
        ""
      ],
      "execution_count": 13,
      "outputs": []
    }
  ]
}