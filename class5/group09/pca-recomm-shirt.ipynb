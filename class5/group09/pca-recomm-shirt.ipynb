{
 "cells": [
  {
   "cell_type": "code",
   "execution_count": 21,
   "metadata": {},
   "outputs": [],
   "source": [
    "from pathlib import Path\n",
    "import os\n",
    "import pandas as pd\n",
    "import numpy as np\n",
    "from sklearn.metrics.pairwise import cosine_similarity\n",
    "from operator import itemgetter"
   ]
  },
  {
   "cell_type": "code",
   "execution_count": 6,
   "metadata": {},
   "outputs": [],
   "source": [
    "ft=pd.DataFrame({'color':[1,2,2,1,3],'darkness':[2,3,4,1,1],'flower':[0,0,1,0,1],'gender':[0,0,0,1,1],'shirt-style':[0,1,0,0,1]})"
   ]
  },
  {
   "cell_type": "code",
   "execution_count": 7,
   "metadata": {},
   "outputs": [
    {
     "data": {
      "text/html": [
       "<div>\n",
       "<style scoped>\n",
       "    .dataframe tbody tr th:only-of-type {\n",
       "        vertical-align: middle;\n",
       "    }\n",
       "\n",
       "    .dataframe tbody tr th {\n",
       "        vertical-align: top;\n",
       "    }\n",
       "\n",
       "    .dataframe thead th {\n",
       "        text-align: right;\n",
       "    }\n",
       "</style>\n",
       "<table border=\"1\" class=\"dataframe\">\n",
       "  <thead>\n",
       "    <tr style=\"text-align: right;\">\n",
       "      <th></th>\n",
       "      <th>color</th>\n",
       "      <th>darkness</th>\n",
       "      <th>flower</th>\n",
       "      <th>gender</th>\n",
       "      <th>shirt-style</th>\n",
       "    </tr>\n",
       "  </thead>\n",
       "  <tbody>\n",
       "    <tr>\n",
       "      <th>0</th>\n",
       "      <td>1</td>\n",
       "      <td>2</td>\n",
       "      <td>0</td>\n",
       "      <td>0</td>\n",
       "      <td>0</td>\n",
       "    </tr>\n",
       "    <tr>\n",
       "      <th>1</th>\n",
       "      <td>2</td>\n",
       "      <td>3</td>\n",
       "      <td>0</td>\n",
       "      <td>0</td>\n",
       "      <td>1</td>\n",
       "    </tr>\n",
       "    <tr>\n",
       "      <th>2</th>\n",
       "      <td>2</td>\n",
       "      <td>4</td>\n",
       "      <td>1</td>\n",
       "      <td>0</td>\n",
       "      <td>0</td>\n",
       "    </tr>\n",
       "    <tr>\n",
       "      <th>3</th>\n",
       "      <td>1</td>\n",
       "      <td>1</td>\n",
       "      <td>0</td>\n",
       "      <td>1</td>\n",
       "      <td>0</td>\n",
       "    </tr>\n",
       "    <tr>\n",
       "      <th>4</th>\n",
       "      <td>3</td>\n",
       "      <td>1</td>\n",
       "      <td>1</td>\n",
       "      <td>1</td>\n",
       "      <td>1</td>\n",
       "    </tr>\n",
       "  </tbody>\n",
       "</table>\n",
       "</div>"
      ],
      "text/plain": [
       "   color  darkness  flower  gender  shirt-style\n",
       "0      1         2       0       0            0\n",
       "1      2         3       0       0            1\n",
       "2      2         4       1       0            0\n",
       "3      1         1       0       1            0\n",
       "4      3         1       1       1            1"
      ]
     },
     "execution_count": 7,
     "metadata": {},
     "output_type": "execute_result"
    }
   ],
   "source": [
    "ft"
   ]
  },
  {
   "cell_type": "code",
   "execution_count": 2,
   "metadata": {},
   "outputs": [],
   "source": [
    "import numpy as np\n",
    "import pandas as pd\n",
    "from matplotlib import pyplot as plt\n",
    "from sklearn.preprocessing import StandardScaler\n",
    "from sklearn.metrics.cluster import adjusted_rand_score\n",
    "from sklearn.decomposition import PCA\n",
    "import matplotlib.image as mpimg \n",
    "import cv2"
   ]
  },
  {
   "cell_type": "code",
   "execution_count": 25,
   "metadata": {},
   "outputs": [
    {
     "name": "stdout",
     "output_type": "stream",
     "text": [
      "(177, 118)\n",
      "(215, 178)\n",
      "(215, 143)\n",
      "(196, 157)\n",
      "(196, 111)\n"
     ]
    }
   ],
   "source": [
    "# Read Images \n",
    "img1 = cv2.imread('1.png',cv2.IMREAD_GRAYSCALE) \n",
    "img2 = cv2.imread('2.png',cv2.IMREAD_GRAYSCALE)  \n",
    "img3 = cv2.imread('3.png',cv2.IMREAD_GRAYSCALE)  \n",
    "img4 = cv2.imread('4.png',cv2.IMREAD_GRAYSCALE) \n",
    "img5 = cv2.imread('5.png',cv2.IMREAD_GRAYSCALE) \n",
    "# cv2.imshow('gray',img1)\n",
    "print(img1.shape)\n",
    "print(img2.shape)\n",
    "print(img3.shape)\n",
    "print(img4.shape)\n",
    "print(img5.shape)\n",
    "# print(img1.size)\n",
    "# cv2.waitKey()"
   ]
  },
  {
   "cell_type": "code",
   "execution_count": 30,
   "metadata": {},
   "outputs": [
    {
     "name": "stdout",
     "output_type": "stream",
     "text": [
      "(215, 178)\n",
      "(215, 178)\n",
      "(215, 178)\n",
      "(215, 178)\n",
      "(215, 178)\n"
     ]
    }
   ],
   "source": [
    "img1r=cv2.resize(img1, (178,215), interpolation = cv2.INTER_AREA)\n",
    "img2r=cv2.resize(img2, (178,215), interpolation = cv2.INTER_AREA)\n",
    "img3r=cv2.resize(img3, (178,215), interpolation = cv2.INTER_AREA)\n",
    "img4r=cv2.resize(img4, (178,215), interpolation = cv2.INTER_AREA)\n",
    "img5r=cv2.resize(img5, (178,215), interpolation = cv2.INTER_AREA)\n",
    "print(img1r.shape)\n",
    "print(img2r.shape)\n",
    "print(img3r.shape)\n",
    "print(img4r.shape)\n",
    "print(img5r.shape)"
   ]
  },
  {
   "cell_type": "code",
   "execution_count": 47,
   "metadata": {},
   "outputs": [],
   "source": [
    "img1=np.reshape(img1r,(1,215*178))/255\n",
    "img2=np.reshape(img2r,(1,215*178))/255\n",
    "img3=np.reshape(img3r,(1,215*178))/255\n",
    "img4=np.reshape(img4r,(1,215*178))/255\n",
    "img5=np.reshape(img5r,(1,215*178))/255\n",
    "img=np.vstack((img1,img2,img3,img4,img5))"
   ]
  },
  {
   "cell_type": "code",
   "execution_count": 32,
   "metadata": {},
   "outputs": [],
   "source": [
    "# standardize inputs\n",
    "# scaler = StandardScaler()\n",
    "# scaler.fit(img)\n",
    "# Apply transform to both the training set and the test set.\n",
    "# img = scaler.transform(img)"
   ]
  },
  {
   "cell_type": "code",
   "execution_count": 48,
   "metadata": {},
   "outputs": [],
   "source": [
    "n_components = 0.95\n",
    "pca = PCA(n_components)\n",
    "pimg = pca.fit_transform(img)"
   ]
  },
  {
   "cell_type": "code",
   "execution_count": 49,
   "metadata": {},
   "outputs": [
    {
     "data": {
      "text/plain": [
       "Text(0.5, 1.0, 'Incremental variance explained by PC')"
      ]
     },
     "execution_count": 49,
     "metadata": {},
     "output_type": "execute_result"
    },
    {
     "data": {
      "image/png": "[encoded data removed]",
      "text/plain": [
       "<Figure size 432x288 with 1 Axes>"
      ]
     },
     "metadata": {
      "needs_background": "light"
     },
     "output_type": "display_data"
    }
   ],
   "source": [
    "# plot incremental variance explained\n",
    "plt.plot(pca.explained_variance_ratio_)\n",
    "plt.xlabel('number of components')\n",
    "plt.ylabel('cumulative explained variance')\n",
    "plt.title('Incremental variance explained by PC')"
   ]
  },
  {
   "cell_type": "code",
   "execution_count": 50,
   "metadata": {},
   "outputs": [
    {
     "data": {
      "text/plain": [
       "Text(0.5, 1.0, 'Cumulative variance explained by PC')"
      ]
     },
     "execution_count": 50,
     "metadata": {},
     "output_type": "execute_result"
    },
    {
     "data": {
      "image/png": "[encoded data removed]",
      "text/plain": [
       "<Figure size 432x288 with 1 Axes>"
      ]
     },
     "metadata": {
      "needs_background": "light"
     },
     "output_type": "display_data"
    }
   ],
   "source": [
    "# plot cumulative variance explained\n",
    "plt.plot(np.cumsum(pca.explained_variance_ratio_))\n",
    "plt.xlabel('number of components')\n",
    "plt.ylabel('cumulative explained variance')\n",
    "plt.title('Cumulative variance explained by PC')"
   ]
  },
  {
   "cell_type": "code",
   "execution_count": 66,
   "metadata": {},
   "outputs": [
    {
     "data": {
      "image/png": "[encoded data removed]",
      "text/plain": [
       "<Figure size 432x288 with 5 Axes>"
      ]
     },
     "metadata": {
      "needs_background": "light"
     },
     "output_type": "display_data"
    }
   ],
   "source": [
    "plt.subplot(1, 5, 1)\n",
    "plt.imshow(pca.inverse_transform(pimg[0]).reshape(215, 178)*255,\n",
    "              cmap = plt.cm.gray, interpolation='nearest',\n",
    "              clim=(0, 255))\n",
    "plt.subplot(1, 5, 2)\n",
    "plt.imshow(pca.inverse_transform(pimg[1]).reshape(215, 178)*255,\n",
    "              cmap = plt.cm.gray, interpolation='nearest',\n",
    "              clim=(0, 255))\n",
    "plt.subplot(1, 5, 3)\n",
    "plt.imshow(pca.inverse_transform(pimg[2]).reshape(215, 178)*255,\n",
    "              cmap = plt.cm.gray, interpolation='nearest',\n",
    "              clim=(0, 255))\n",
    "plt.subplot(1, 5, 4)\n",
    "plt.imshow(pca.inverse_transform(pimg[3]).reshape(215, 178)*255,\n",
    "              cmap = plt.cm.gray, interpolation='nearest',\n",
    "              clim=(0, 255))\n",
    "plt.subplot(1, 5, 5)\n",
    "plt.imshow(pca.inverse_transform(pimg[4]).reshape(215, 178)*255,\n",
    "              cmap = plt.cm.gray, interpolation='nearest',\n",
    "              clim=(0, 255))\n",
    "plt.subplots_adjust(wspace =0.8) #, hspace =0\n",
    "#plt.xlabel('{} components'.format(pca.n_components_), fontsize = 14)\n",
    "#plt.title('95% of Explained Variance', fontsize = 20)"
   ]
  },
  {
   "cell_type": "code",
   "execution_count": 67,
   "metadata": {},
   "outputs": [
    {
     "data": {
      "text/plain": [
       "array([[ 21.18147504,  -9.65669942,  22.49155662, -12.08819376],\n",
       "       [ -2.82128132,  40.10399035,   2.11636221,   3.64541566],\n",
       "       [ 65.75908558,  -8.66593973, -14.47658685,   4.86067179],\n",
       "       [-44.82525327,  -5.72658939, -15.08395796, -15.81069808],\n",
       "       [-39.29402604, -16.05476181,   4.95262598,  19.39280438]])"
      ]
     },
     "execution_count": 67,
     "metadata": {},
     "output_type": "execute_result"
    }
   ],
   "source": [
    "pimg"
   ]
  },
  {
   "cell_type": "code",
   "execution_count": 3,
   "metadata": {},
   "outputs": [],
   "source": [
    "img1 = cv2.imread('1.png') \n",
    "img2 = cv2.imread('2.png')  \n",
    "img3 = cv2.imread('3.png')  \n",
    "img4 = cv2.imread('4.png') \n",
    "img5 = cv2.imread('5.png') "
   ]
  },
  {
   "cell_type": "code",
   "execution_count": 4,
   "metadata": {},
   "outputs": [
    {
     "data": {
      "text/plain": [
       "((114810,), (114810,), (114810,), (114810,), (114810,))"
      ]
     },
     "execution_count": 4,
     "metadata": {},
     "output_type": "execute_result"
    }
   ],
   "source": [
    "img1r=cv2.resize(img1, (178,215), interpolation = cv2.INTER_AREA).flatten()\n",
    "img2r=cv2.resize(img2, (178,215), interpolation = cv2.INTER_AREA).flatten()\n",
    "img3r=cv2.resize(img3, (178,215), interpolation = cv2.INTER_AREA).flatten()\n",
    "img4r=cv2.resize(img4, (178,215), interpolation = cv2.INTER_AREA).flatten()\n",
    "img5r=cv2.resize(img5, (178,215), interpolation = cv2.INTER_AREA).flatten()\n",
    "\n",
    "img1r.shape, img2r.shape, img3r.shape, img4r.shape, img5r.shape"
   ]
  },
  {
   "cell_type": "code",
   "execution_count": 5,
   "metadata": {},
   "outputs": [],
   "source": [
    "img=np.vstack((img1r,img2r,img3r,img4r,img5r))\n",
    "img = img/255.0"
   ]
  },
  {
   "cell_type": "code",
   "execution_count": 6,
   "metadata": {},
   "outputs": [],
   "source": [
    "n_components = 0.95\n",
    "pca = PCA(n_components)\n",
    "pimg = pca.fit_transform(img)"
   ]
  },
  {
   "cell_type": "code",
   "execution_count": 14,
   "metadata": {},
   "outputs": [
    {
     "data": {
      "text/plain": [
       "Text(0.5, 1.0, 'Cumulative variance explained by PC')"
      ]
     },
     "execution_count": 14,
     "metadata": {},
     "output_type": "execute_result"
    },
    {
     "data": {
      "image/png": "[encoded data removed]",
      "text/plain": [
       "<Figure size 432x288 with 1 Axes>"
      ]
     },
     "metadata": {
      "needs_background": "light"
     },
     "output_type": "display_data"
    }
   ],
   "source": [
    "# plot cumulative variance explained\n",
    "plt.plot(np.cumsum(pca.explained_variance_ratio_))\n",
    "plt.xlabel('number of components')\n",
    "plt.ylabel('cumulative explained variance')\n",
    "plt.title('Cumulative variance explained by PC')"
   ]
  },
  {
   "cell_type": "code",
   "execution_count": 7,
   "metadata": {},
   "outputs": [
    {
     "data": {
      "text/plain": [
       "array([[ 35.96816225, -32.15779801,  49.44689998,  -5.99327363],\n",
       "       [ -6.00095796,  70.23782533,  12.24567665,  -5.25905768],\n",
       "       [112.81586158,  -5.95060844, -32.5955344 ,   7.68449537],\n",
       "       [-77.21449249, -12.26129011,  -5.53098619,  38.55319565],\n",
       "       [-65.56857338, -19.86812877, -23.56605604, -34.9853597 ]])"
      ]
     },
     "execution_count": 7,
     "metadata": {},
     "output_type": "execute_result"
    }
   ],
   "source": [
    "pimg"
   ]
  },
  {
   "cell_type": "code",
   "execution_count": 9,
   "metadata": {},
   "outputs": [
    {
     "data": {
      "text/plain": [
       "array([[ 1.        , -0.36934903,  0.31713537, -0.47672134, -0.4794615 ],\n",
       "       [-0.36934903,  1.        , -0.18152485, -0.10665238, -0.19171493],\n",
       "       [ 0.31713537, -0.18152485,  1.        , -0.79298281, -0.71512307],\n",
       "       [-0.47672134, -0.10665238, -0.79298281,  1.        ,  0.58170586],\n",
       "       [-0.4794615 , -0.19171493, -0.71512307,  0.58170586,  1.        ]])"
      ]
     },
     "execution_count": 9,
     "metadata": {},
     "output_type": "execute_result"
    }
   ],
   "source": [
    "cosine_sim=cosine_similarity(pimg,pimg)\n",
    "cosine_sim"
   ]
  },
  {
   "cell_type": "code",
   "execution_count": 11,
   "metadata": {},
   "outputs": [
    {
     "data": {
      "text/plain": [
       "array([[ 4808.74791542, -1837.50750942,  2591.33426528, -2887.51727489,\n",
       "        -2675.05739639],\n",
       "       [-1837.50750942,  5146.9778885 , -1534.52861822,  -668.32957785,\n",
       "        -1106.61218301],\n",
       "       [ 2591.33426528, -1534.52861822, 13884.34869666, -8161.51005613,\n",
       "        -6779.64428758],\n",
       "       [-2887.51727489,  -668.32957785, -8161.51005613,  7629.35778854,\n",
       "         4087.99912034],\n",
       "       [-2675.05739639, -1106.61218301, -6779.64428758,  4087.99912034,\n",
       "         6473.31474664]])"
      ]
     },
     "execution_count": 11,
     "metadata": {},
     "output_type": "execute_result"
    }
   ],
   "source": [
    "from sklearn.metrics.pairwise import linear_kernel\n",
    "cosine_sim2=linear_kernel(pimg,pimg)\n",
    "cosine_sim2"
   ]
  },
  {
   "cell_type": "code",
   "execution_count": 10,
   "metadata": {},
   "outputs": [
    {
     "ename": "NameError",
     "evalue": "name 'ds' is not defined",
     "output_type": "error",
     "traceback": [
      "\u001b[1;31m---------------------------------------------------------------------------\u001b[0m",
      "\u001b[1;31mNameError\u001b[0m                                 Traceback (most recent call last)",
      "\u001b[1;32m<ipython-input-10-5c82e66cb292>\u001b[0m in \u001b[0;36m<module>\u001b[1;34m\u001b[0m\n\u001b[0;32m      1\u001b[0m \u001b[0mresults\u001b[0m \u001b[1;33m=\u001b[0m \u001b[1;33m{\u001b[0m\u001b[1;33m}\u001b[0m\u001b[1;33m\u001b[0m\u001b[1;33m\u001b[0m\u001b[0m\n\u001b[1;32m----> 2\u001b[1;33m \u001b[1;32mfor\u001b[0m \u001b[0midx\u001b[0m\u001b[1;33m,\u001b[0m \u001b[0mrow\u001b[0m \u001b[1;32min\u001b[0m \u001b[0mds\u001b[0m\u001b[1;33m.\u001b[0m\u001b[0miterrows\u001b[0m\u001b[1;33m(\u001b[0m\u001b[1;33m)\u001b[0m\u001b[1;33m:\u001b[0m\u001b[1;33m\u001b[0m\u001b[1;33m\u001b[0m\u001b[0m\n\u001b[0m\u001b[0;32m      3\u001b[0m    \u001b[0msimilar_indices\u001b[0m \u001b[1;33m=\u001b[0m \u001b[0mcosine_sim\u001b[0m\u001b[1;33m[\u001b[0m\u001b[0midx\u001b[0m\u001b[1;33m]\u001b[0m\u001b[1;33m.\u001b[0m\u001b[0margsort\u001b[0m\u001b[1;33m(\u001b[0m\u001b[1;33m)\u001b[0m\u001b[1;33m[\u001b[0m\u001b[1;33m:\u001b[0m\u001b[1;33m-\u001b[0m\u001b[1;36m100\u001b[0m\u001b[1;33m:\u001b[0m\u001b[1;33m-\u001b[0m\u001b[1;36m1\u001b[0m\u001b[1;33m]\u001b[0m\u001b[1;33m\u001b[0m\u001b[1;33m\u001b[0m\u001b[0m\n\u001b[0;32m      4\u001b[0m    \u001b[0msimilar_items\u001b[0m \u001b[1;33m=\u001b[0m \u001b[1;33m[\u001b[0m\u001b[1;33m(\u001b[0m\u001b[0mround\u001b[0m\u001b[1;33m(\u001b[0m\u001b[0mcosine_sim\u001b[0m\u001b[1;33m[\u001b[0m\u001b[0midx\u001b[0m\u001b[1;33m]\u001b[0m\u001b[1;33m[\u001b[0m\u001b[0mi\u001b[0m\u001b[1;33m]\u001b[0m\u001b[1;33m,\u001b[0m\u001b[1;36m2\u001b[0m\u001b[1;33m)\u001b[0m\u001b[1;33m,\u001b[0m \u001b[0mds\u001b[0m\u001b[1;33m[\u001b[0m\u001b[1;34m'id'\u001b[0m\u001b[1;33m]\u001b[0m\u001b[1;33m[\u001b[0m\u001b[0mi\u001b[0m\u001b[1;33m]\u001b[0m\u001b[1;33m)\u001b[0m \u001b[1;32mfor\u001b[0m \u001b[0mi\u001b[0m \u001b[1;32min\u001b[0m \u001b[0msimilar_indices\u001b[0m\u001b[1;33m]\u001b[0m\u001b[1;33m\u001b[0m\u001b[1;33m\u001b[0m\u001b[0m\n\u001b[0;32m      5\u001b[0m    \u001b[0mresults\u001b[0m\u001b[1;33m[\u001b[0m\u001b[0mrow\u001b[0m\u001b[1;33m[\u001b[0m\u001b[1;34m'id'\u001b[0m\u001b[1;33m]\u001b[0m\u001b[1;33m]\u001b[0m \u001b[1;33m=\u001b[0m \u001b[0msimilar_items\u001b[0m\u001b[1;33m[\u001b[0m\u001b[1;36m1\u001b[0m\u001b[1;33m:\u001b[0m\u001b[1;33m]\u001b[0m\u001b[1;33m\u001b[0m\u001b[1;33m\u001b[0m\u001b[0m\n",
      "\u001b[1;31mNameError\u001b[0m: name 'ds' is not defined"
     ]
    }
   ],
   "source": [
    "results = {}\n",
    "for idx, row in ds.iterrows():\n",
    "   similar_indices = cosine_sim[idx].argsort()[:-100:-1] \n",
    "   similar_items = [(round(cosine_sim[idx][i],2), ds['id'][i]) for i in similar_indices] \n",
    "   results[row['id']] = similar_items[1:]"
   ]
  },
  {
   "cell_type": "code",
   "execution_count": 54,
   "metadata": {},
   "outputs": [
    {
     "data": {
      "text/plain": [
       "array([[1.  , 0.37, 0.32, 0.48, 0.48],\n",
       "       [0.37, 1.  , 0.18, 0.11, 0.19],\n",
       "       [0.32, 0.18, 1.  , 0.79, 0.72],\n",
       "       [0.48, 0.11, 0.79, 1.  , 0.58],\n",
       "       [0.48, 0.19, 0.72, 0.58, 1.  ]])"
      ]
     },
     "execution_count": 54,
     "metadata": {},
     "output_type": "execute_result"
    }
   ],
   "source": [
    "ac=abs(cosine_sim)\n",
    "ac=np.matrix.round(ac,decimals=2)\n",
    "ac"
   ]
  },
  {
   "cell_type": "code",
   "execution_count": 57,
   "metadata": {},
   "outputs": [
    {
     "data": {
      "text/plain": [
       "[[(4, 0.48), (5, 0.48), (2, 0.37), (3, 0.32)],\n",
       " [(1, 0.37), (5, 0.19), (3, 0.18), (4, 0.11)],\n",
       " [(4, 0.79), (5, 0.72), (1, 0.32), (2, 0.18)],\n",
       " [(3, 0.79), (5, 0.58), (1, 0.48), (2, 0.11)],\n",
       " [(3, 0.72), (4, 0.58), (1, 0.48), (2, 0.19)]]"
      ]
     },
     "execution_count": 57,
     "metadata": {},
     "output_type": "execute_result"
    }
   ],
   "source": [
    "results = []\n",
    "for i in range(5):\n",
    "    similar_items = []\n",
    "    similar_items=sorted(enumerate(ac[i], start=1), key=itemgetter(1), reverse=True)[1:]\n",
    "    results.append(similar_items)\n",
    "results"
   ]
  },
  {
   "cell_type": "code",
   "execution_count": null,
   "metadata": {},
   "outputs": [],
   "source": []
  }
 ],
 "metadata": {
  "kernelspec": {
   "display_name": "Python 3",
   "language": "python",
   "name": "python3"
  },
  "language_info": {
   "codemirror_mode": {
    "name": "ipython",
    "version": 3
   },
   "file_extension": ".py",
   "mimetype": "text/x-python",
   "name": "python",
   "nbconvert_exporter": "python",
   "pygments_lexer": "ipython3",
   "version": "3.8.3"
  }
 },
 "nbformat": 4,
 "nbformat_minor": 4
}
